{
  "cells": [
    {
      "cell_type": "markdown",
      "metadata": {
        "id": "view-in-github",
        "colab_type": "text"
      },
      "source": [
        "<a href=\"https://colab.research.google.com/github/Kiana-M/Refreshers-and-Tutorials/blob/main/python_numpy_tefresher.ipynb\" target=\"_parent\"><img src=\"https://colab.research.google.com/assets/colab-badge.svg\" alt=\"Open In Colab\"/></a>"
      ]
    },
    {
      "cell_type": "markdown",
      "id": "733f8cec",
      "metadata": {
        "id": "733f8cec"
      },
      "source": [
        "# Python Tutorial"
      ]
    },
    {
      "cell_type": "markdown",
      "id": "347cd487",
      "metadata": {
        "id": "347cd487"
      },
      "source": [
        "## Collections"
      ]
    },
    {
      "cell_type": "markdown",
      "id": "e691f94d",
      "metadata": {
        "id": "e691f94d"
      },
      "source": [
        "Python has several built-in types that are useful for storing and manipulating data: list, tuple, dict. Here is the official Python documentation on these types (and many others): https://docs.python.org/3/library/stdtypes.html."
      ]
    },
    {
      "cell_type": "markdown",
      "id": "635401d7",
      "metadata": {
        "id": "635401d7"
      },
      "source": [
        "### Lists"
      ]
    },
    {
      "cell_type": "markdown",
      "id": "ce42dfd9",
      "metadata": {
        "id": "ce42dfd9"
      },
      "source": [
        "Lists are mutable arrays. Let's see how they work."
      ]
    },
    {
      "cell_type": "code",
      "execution_count": 49,
      "id": "3f24605e",
      "metadata": {
        "id": "3f24605e"
      },
      "outputs": [],
      "source": [
        "names = [\"Zach\", \"Jay\"]"
      ]
    },
    {
      "cell_type": "code",
      "execution_count": 50,
      "id": "ae2fb323",
      "metadata": {
        "id": "ae2fb323",
        "outputId": "c88e32cf-ea5f-4286-cf1c-d628023d89d4",
        "colab": {
          "base_uri": "https://localhost:8080/"
        }
      },
      "outputs": [
        {
          "output_type": "stream",
          "name": "stdout",
          "text": [
            "Zach\n"
          ]
        }
      ],
      "source": [
        "# Index into list by index\n",
        "print(names[0])"
      ]
    },
    {
      "cell_type": "code",
      "execution_count": 51,
      "id": "64066853",
      "metadata": {
        "id": "64066853",
        "outputId": "399cdd6c-dbf4-4784-d309-e7328acf0311",
        "colab": {
          "base_uri": "https://localhost:8080/"
        }
      },
      "outputs": [
        {
          "output_type": "stream",
          "name": "stdout",
          "text": [
            "['Zach', 'Jay', 'Richard']\n"
          ]
        }
      ],
      "source": [
        "# Append to list (appends to end of list)\n",
        "names.append(\"Richard\")\n",
        "print(names)"
      ]
    },
    {
      "cell_type": "code",
      "execution_count": 52,
      "id": "357799cc",
      "metadata": {
        "id": "357799cc",
        "outputId": "8547e9d0-d2d0-452c-e269-df9563e915b0",
        "colab": {
          "base_uri": "https://localhost:8080/"
        }
      },
      "outputs": [
        {
          "output_type": "stream",
          "name": "stdout",
          "text": [
            "3\n"
          ]
        }
      ],
      "source": [
        "# Get length of list\n",
        "print(len(names))"
      ]
    },
    {
      "cell_type": "code",
      "execution_count": 53,
      "id": "8977adcf",
      "metadata": {
        "id": "8977adcf",
        "outputId": "9fdec854-5077-4329-961e-ecd65de15aed",
        "colab": {
          "base_uri": "https://localhost:8080/"
        }
      },
      "outputs": [
        {
          "output_type": "stream",
          "name": "stdout",
          "text": [
            "['Zach', 'Jay', 'Richard', 'Abi', 'Kevin']\n"
          ]
        }
      ],
      "source": [
        "# Concatenate two lists\n",
        "# += operator is a short hand for list1 = list1 + list2 (can also be used for -, *, / and on other types of variables)\n",
        "names += [\"Abi\", \"Kevin\"]\n",
        "print(names)"
      ]
    },
    {
      "cell_type": "code",
      "execution_count": 54,
      "id": "57c178a7",
      "metadata": {
        "id": "57c178a7"
      },
      "outputs": [],
      "source": [
        "# Two ways to create an empty list\n",
        "more_names = []\n",
        "more_names = list()"
      ]
    },
    {
      "cell_type": "code",
      "execution_count": 55,
      "id": "7913fce7",
      "metadata": {
        "scrolled": true,
        "id": "7913fce7",
        "outputId": "9118a32e-12e1-468f-ac68-8f697fc31e06",
        "colab": {
          "base_uri": "https://localhost:8080/"
        }
      },
      "outputs": [
        {
          "output_type": "stream",
          "name": "stdout",
          "text": [
            "[1, ['hi', 'bye'], -0.12, None]\n"
          ]
        }
      ],
      "source": [
        "# Create a list that contains different data types, this is allowed in Python\n",
        "stuff = [1, [\"hi\", \"bye\"], -0.12, None]\n",
        "print(stuff)"
      ]
    },
    {
      "cell_type": "markdown",
      "id": "68682c20",
      "metadata": {
        "id": "68682c20"
      },
      "source": [
        "List slicing is a useful way to access a slice of elements in a list."
      ]
    },
    {
      "cell_type": "code",
      "execution_count": 56,
      "id": "8fc049ef",
      "metadata": {
        "id": "8fc049ef",
        "outputId": "b0b6b845-f83d-4df6-80a5-fbf784bdf3b8",
        "colab": {
          "base_uri": "https://localhost:8080/"
        }
      },
      "outputs": [
        {
          "output_type": "stream",
          "name": "stdout",
          "text": [
            "[0, 1, 2]\n"
          ]
        }
      ],
      "source": [
        "numbers = [0, 1, 2, 3, 4, 5, 6]\n",
        "\n",
        "# Slices from start index (inclusive) to end index (exclusive)\n",
        "print(numbers[0:3])"
      ]
    },
    {
      "cell_type": "code",
      "execution_count": 57,
      "id": "3e34a509",
      "metadata": {
        "id": "3e34a509",
        "outputId": "5f0ddc41-f710-4b59-e7f4-e64de2fadf16",
        "colab": {
          "base_uri": "https://localhost:8080/"
        }
      },
      "outputs": [
        {
          "output_type": "stream",
          "name": "stdout",
          "text": [
            "[0, 1, 2]\n",
            "[5, 6]\n"
          ]
        }
      ],
      "source": [
        "# When start index is not specified, it is start of list\n",
        "# When end index is not specified, it is end of list\n",
        "print(numbers[:3])\n",
        "print(numbers[5:])"
      ]
    },
    {
      "cell_type": "code",
      "execution_count": 58,
      "id": "813da35a",
      "metadata": {
        "id": "813da35a",
        "outputId": "95945ed8-534a-405a-a83f-240adf914836",
        "colab": {
          "base_uri": "https://localhost:8080/"
        }
      },
      "outputs": [
        {
          "output_type": "stream",
          "name": "stdout",
          "text": [
            "[0, 1, 2, 3, 4, 5, 6]\n"
          ]
        }
      ],
      "source": [
        "# : takes the slice of all elements along a dimension, is very useful when working with numpy arrays\n",
        "print(numbers[:])"
      ]
    },
    {
      "cell_type": "code",
      "execution_count": 59,
      "id": "eaa197af",
      "metadata": {
        "id": "eaa197af",
        "outputId": "ff11ec16-6a92-40df-a20c-8b2216a7ad5f",
        "colab": {
          "base_uri": "https://localhost:8080/"
        }
      },
      "outputs": [
        {
          "output_type": "stream",
          "name": "stdout",
          "text": [
            "6\n",
            "[4, 5, 6]\n",
            "[3, 4]\n"
          ]
        }
      ],
      "source": [
        "# Negative index wraps around, start counting from the end of list\n",
        "print(numbers[-1])\n",
        "print(numbers[-3:])\n",
        "print(numbers[3:-2])"
      ]
    },
    {
      "cell_type": "markdown",
      "id": "22371049",
      "metadata": {
        "id": "22371049"
      },
      "source": [
        "### Tuples"
      ]
    },
    {
      "cell_type": "markdown",
      "id": "bfca6098",
      "metadata": {
        "id": "bfca6098"
      },
      "source": [
        "Tuples are immutable arrays. Let's see how they work."
      ]
    },
    {
      "cell_type": "code",
      "execution_count": 60,
      "id": "b542e470",
      "metadata": {
        "id": "b542e470"
      },
      "outputs": [],
      "source": [
        "# Use parentheses for tuples, square brackets for lists\n",
        "names = (\"Zach\", \"Jay\")"
      ]
    },
    {
      "cell_type": "code",
      "execution_count": 61,
      "id": "3906a033",
      "metadata": {
        "id": "3906a033",
        "outputId": "92cedbf2-1c01-4b87-b97a-55decd572871",
        "colab": {
          "base_uri": "https://localhost:8080/"
        }
      },
      "outputs": [
        {
          "output_type": "stream",
          "name": "stdout",
          "text": [
            "Zach\n",
            "2\n"
          ]
        }
      ],
      "source": [
        "# Syntax for accessing an element and getting length are the same as lists\n",
        "print(names[0])\n",
        "print(len(names))"
      ]
    },
    {
      "cell_type": "code",
      "execution_count": 62,
      "id": "8799a4c5",
      "metadata": {
        "id": "8799a4c5",
        "outputId": "04bc00a8-147a-4273-b1fe-f2d59e2a0f39",
        "colab": {
          "base_uri": "https://localhost:8080/",
          "height": 162
        }
      },
      "outputs": [
        {
          "output_type": "error",
          "ename": "TypeError",
          "evalue": "'tuple' object does not support item assignment",
          "traceback": [
            "\u001b[0;31m---------------------------------------------------------------------------\u001b[0m",
            "\u001b[0;31mTypeError\u001b[0m                                 Traceback (most recent call last)",
            "\u001b[0;32m<ipython-input-62-8ab9a31bdd3d>\u001b[0m in \u001b[0;36m<cell line: 2>\u001b[0;34m()\u001b[0m\n\u001b[1;32m      1\u001b[0m \u001b[0;31m# But unlike lists, tuples do not support item re-assignment\u001b[0m\u001b[0;34m\u001b[0m\u001b[0;34m\u001b[0m\u001b[0m\n\u001b[0;32m----> 2\u001b[0;31m \u001b[0mnames\u001b[0m\u001b[0;34m[\u001b[0m\u001b[0;36m0\u001b[0m\u001b[0;34m]\u001b[0m \u001b[0;34m=\u001b[0m \u001b[0;34m\"Richard\"\u001b[0m\u001b[0;34m\u001b[0m\u001b[0;34m\u001b[0m\u001b[0m\n\u001b[0m",
            "\u001b[0;31mTypeError\u001b[0m: 'tuple' object does not support item assignment"
          ]
        }
      ],
      "source": [
        "# But unlike lists, tuples do not support item re-assignment\n",
        "names[0] = \"Richard\""
      ]
    },
    {
      "cell_type": "code",
      "execution_count": 63,
      "id": "9918ac4b",
      "metadata": {
        "id": "9918ac4b",
        "outputId": "5aab0400-3d82-4cb4-d20d-c99204750394",
        "colab": {
          "base_uri": "https://localhost:8080/"
        }
      },
      "outputs": [
        {
          "output_type": "stream",
          "name": "stdout",
          "text": [
            "()\n",
            "(10,)\n"
          ]
        }
      ],
      "source": [
        "# Create an empty tuple\n",
        "empty = tuple()\n",
        "print(empty)\n",
        "\n",
        "# Create a tuple with a single item, the comma is important\n",
        "single = (10,)\n",
        "print(single)"
      ]
    },
    {
      "cell_type": "markdown",
      "id": "00800704",
      "metadata": {
        "id": "00800704"
      },
      "source": [
        "## Dictionary"
      ]
    },
    {
      "cell_type": "markdown",
      "id": "8111c6c3",
      "metadata": {
        "id": "8111c6c3"
      },
      "source": [
        "Dictionaries are hash maps. Let's see how they work."
      ]
    },
    {
      "cell_type": "code",
      "execution_count": 64,
      "id": "646bda2f",
      "metadata": {
        "id": "646bda2f"
      },
      "outputs": [],
      "source": [
        "# Two ways to create an empty dictionary\n",
        "phonebook = {}\n",
        "phonebook = dict()"
      ]
    },
    {
      "cell_type": "code",
      "execution_count": 65,
      "id": "65c67196",
      "metadata": {
        "id": "65c67196"
      },
      "outputs": [],
      "source": [
        "# Create dictionary with one item\n",
        "phonebook = {\"Zach\": \"12-37\"}\n",
        "# Add another item\n",
        "phonebook[\"Jay\"] = \"34-23\""
      ]
    },
    {
      "cell_type": "code",
      "execution_count": 66,
      "id": "1bc431d9",
      "metadata": {
        "id": "1bc431d9",
        "outputId": "9440af32-31bd-4af8-d60c-7a07379db11d",
        "colab": {
          "base_uri": "https://localhost:8080/"
        }
      },
      "outputs": [
        {
          "output_type": "stream",
          "name": "stdout",
          "text": [
            "True\n",
            "False\n"
          ]
        }
      ],
      "source": [
        "# Check if a key is in the dictionary\n",
        "print(\"Zach\" in phonebook)\n",
        "print(\"Kevin\" in phonebook)"
      ]
    },
    {
      "cell_type": "code",
      "execution_count": 67,
      "id": "87018123",
      "metadata": {
        "id": "87018123",
        "outputId": "a01cd10f-1497-4974-d2cc-8eee2e2f0b69",
        "colab": {
          "base_uri": "https://localhost:8080/"
        }
      },
      "outputs": [
        {
          "output_type": "stream",
          "name": "stdout",
          "text": [
            "34-23\n"
          ]
        }
      ],
      "source": [
        "# Get corresponding value for a key\n",
        "print(phonebook[\"Jay\"])"
      ]
    },
    {
      "cell_type": "code",
      "execution_count": 68,
      "id": "18555a3a",
      "metadata": {
        "id": "18555a3a",
        "outputId": "a9395889-2cdf-4928-cd2b-ecc3d61ed0c5",
        "colab": {
          "base_uri": "https://localhost:8080/"
        }
      },
      "outputs": [
        {
          "output_type": "stream",
          "name": "stdout",
          "text": [
            "{'Jay': '34-23'}\n"
          ]
        }
      ],
      "source": [
        "# Delete an item\n",
        "del phonebook[\"Zach\"]\n",
        "print(phonebook)"
      ]
    },
    {
      "cell_type": "markdown",
      "id": "60aceb86",
      "metadata": {
        "id": "60aceb86"
      },
      "source": [
        "## Loops"
      ]
    },
    {
      "cell_type": "code",
      "execution_count": 69,
      "id": "f7189f9d",
      "metadata": {
        "id": "f7189f9d",
        "outputId": "95add037-d759-421a-c8c1-5b4a91e11ac7",
        "colab": {
          "base_uri": "https://localhost:8080/"
        }
      },
      "outputs": [
        {
          "output_type": "stream",
          "name": "stdout",
          "text": [
            "0\n",
            "1\n",
            "2\n",
            "3\n",
            "4\n"
          ]
        }
      ],
      "source": [
        "# Basic for loop\n",
        "for i in range(5):\n",
        "    print(i)"
      ]
    },
    {
      "cell_type": "code",
      "execution_count": 70,
      "id": "10ae15db",
      "metadata": {
        "id": "10ae15db",
        "outputId": "48627777-019c-48b6-a23d-2c4089241c5f",
        "colab": {
          "base_uri": "https://localhost:8080/"
        }
      },
      "outputs": [
        {
          "output_type": "stream",
          "name": "stdout",
          "text": [
            "Zach\n",
            "Jay\n",
            "Richard\n"
          ]
        }
      ],
      "source": [
        "# To iterate over a list\n",
        "names = [\"Zach\", \"Jay\", \"Richard\"]\n",
        "for name in names:\n",
        "    print(name)"
      ]
    },
    {
      "cell_type": "code",
      "execution_count": 71,
      "id": "00d5035b",
      "metadata": {
        "id": "00d5035b",
        "outputId": "ea40f3ae-8feb-4df0-a59b-a314dabf269d",
        "colab": {
          "base_uri": "https://localhost:8080/"
        }
      },
      "outputs": [
        {
          "output_type": "stream",
          "name": "stdout",
          "text": [
            "0 Zach\n",
            "1 Jay\n",
            "2 Richard\n",
            "---\n",
            "0 Zach\n",
            "1 Jay\n",
            "2 Richard\n"
          ]
        }
      ],
      "source": [
        "# To iterate over indices and values in a list\n",
        "# Way 1\n",
        "for i in range(len(names)):\n",
        "    print(i, names[i])\n",
        "\n",
        "print(\"---\")\n",
        "\n",
        "# Way 2\n",
        "for i, name in enumerate(names):\n",
        "    print(i, name)"
      ]
    },
    {
      "cell_type": "code",
      "execution_count": 72,
      "id": "f18b7ce6",
      "metadata": {
        "id": "f18b7ce6",
        "outputId": "4c7c0fed-50eb-4049-dca0-39e212680131",
        "colab": {
          "base_uri": "https://localhost:8080/"
        }
      },
      "outputs": [
        {
          "output_type": "stream",
          "name": "stdout",
          "text": [
            "Zach\n",
            "Jay\n",
            "---\n",
            "12-37\n",
            "34-23\n",
            "---\n",
            "Zach 12-37\n",
            "Jay 34-23\n"
          ]
        }
      ],
      "source": [
        "# To iterate over a dictionary\n",
        "phonebook = {\"Zach\": \"12-37\", \"Jay\": \"34-23\"}\n",
        "\n",
        "# Iterate over keys\n",
        "for name in phonebook:\n",
        "    print(name)\n",
        "\n",
        "print(\"---\")\n",
        "\n",
        "# Iterate over values\n",
        "for number in phonebook.values():\n",
        "    print(number)\n",
        "\n",
        "print(\"---\")\n",
        "\n",
        "# Iterate over keys and values\n",
        "for name, number in phonebook.items():\n",
        "    print(name, number)"
      ]
    },
    {
      "cell_type": "markdown",
      "id": "e9661ef4",
      "metadata": {
        "id": "e9661ef4"
      },
      "source": [
        "## NumPy\n",
        "NumPy is a Python library, which adds support for large, multi-dimensional arrays and matrices, along with a large collection of optimized, high-level mathematical functions to operate on these arrays."
      ]
    },
    {
      "cell_type": "markdown",
      "id": "ecdb0df8",
      "metadata": {
        "id": "ecdb0df8"
      },
      "source": [
        "You may need to install numpy first before importing it in the next cell.\n",
        "\n",
        "There are many ways to manage your packages, but the workflow we suggest for this class is to use Anaconda.\n",
        " - Download Anaconda. Create a conda environment when you work on a new project.\n",
        " - Activate your conda environment and install libraries using conda or pip if they are not available in conda.\n",
        " - If you are running scripts on command line, run inside your conda environment.\n",
        " - If you are using a Jupyter notebook, add your conda environment to your Jupyter notebook: https://towardsdatascience.com/get-your-conda-environment-to-show-in-jupyter-notebooks-the-easy-way-17010b76e874. Create your Jupyter notebook and verify you're in your conda environment kernel (top right of notebook should display the name). If you're not, go to the Kernel tab on the top left and click Change kernel to change to your conda environment kernel."
      ]
    },
    {
      "cell_type": "code",
      "execution_count": 28,
      "id": "ab7d3f32",
      "metadata": {
        "id": "ab7d3f32"
      },
      "outputs": [],
      "source": [
        "# Import numpy\n",
        "import numpy as np"
      ]
    },
    {
      "cell_type": "code",
      "execution_count": 13,
      "id": "6596eb30",
      "metadata": {
        "scrolled": false,
        "id": "6596eb30",
        "outputId": "d35bbc1c-7d45-4d78-b3c6-e9a953f1dc87",
        "colab": {
          "base_uri": "https://localhost:8080/"
        }
      },
      "outputs": [
        {
          "output_type": "stream",
          "name": "stdout",
          "text": [
            "(3,)\n",
            "(1, 3)\n",
            "\n",
            "[[6 7]\n",
            " [8 9]]\n",
            "(2, 2)\n"
          ]
        }
      ],
      "source": [
        "# Create numpy arrays from lists\n",
        "x = np.array([1,2,3])\n",
        "a = np.array([[1,2,3]])\n",
        "\n",
        "\n",
        "y = np.array([[3,4,5]])\n",
        "z = np.array([[6,7],[8,9]])\n",
        "\n",
        "# Let's take a look at their shapes.\n",
        "# When working with numpy arrays, .shape will be a very useful debugging tool\n",
        "print(x.shape)\n",
        "print(y.shape)\n",
        "print()\n",
        "print(z)\n",
        "print(z.shape)"
      ]
    },
    {
      "cell_type": "markdown",
      "id": "f4b465bf",
      "metadata": {
        "id": "f4b465bf"
      },
      "source": [
        "Vectors can be represented as 1-D arrays of shape (N,) or 2-D arrays of shape (N, 1) or (1, N). But it's important to note that the shapes (N,), (N, 1), and (1,N) are not the same and may result in different behavior (we'll see some examples below involving matrix multiplication and broadcasting).\n",
        "\n",
        "Matrices are generally represented as 2-D arrays of shape (M, N).\n",
        "\n",
        "The best way to ensure your code gives you the behavior you expect is to keep track of your array shapes and try out small test cases or refer back to documentation when you are unsure."
      ]
    },
    {
      "cell_type": "code",
      "source": [
        "a = np.arange(10)\n",
        "b = a.reshape((5, 2))\n",
        "print(a)\n",
        "print()\n",
        "print(b)"
      ],
      "metadata": {
        "colab": {
          "base_uri": "https://localhost:8080/"
        },
        "id": "A0Wl4qioLmb-",
        "outputId": "8d822cd4-cbef-49ac-d53f-6278c2f2f323"
      },
      "id": "A0Wl4qioLmb-",
      "execution_count": 14,
      "outputs": [
        {
          "output_type": "stream",
          "name": "stdout",
          "text": [
            "[0 1 2 3 4 5 6 7 8 9]\n",
            "\n",
            "[[0 1]\n",
            " [2 3]\n",
            " [4 5]\n",
            " [6 7]\n",
            " [8 9]]\n"
          ]
        }
      ]
    },
    {
      "cell_type": "markdown",
      "id": "bcb3f37c",
      "metadata": {
        "id": "bcb3f37c"
      },
      "source": [
        "### Array Operations"
      ]
    },
    {
      "cell_type": "markdown",
      "id": "18a8a694",
      "metadata": {
        "id": "18a8a694"
      },
      "source": [
        "There are many NumPy operations that can be used to reduce a numpy array along an axis.\n",
        "\n",
        "Let's look at the np.max operation (documentation: https://numpy.org/doc/stable/reference/generated/numpy.ndarray.max.html)."
      ]
    },
    {
      "cell_type": "code",
      "execution_count": 15,
      "id": "1fcf4220",
      "metadata": {
        "id": "1fcf4220",
        "colab": {
          "base_uri": "https://localhost:8080/"
        },
        "outputId": "de4da8ce-f7d4-48a0-c646-6c82c4b4b14d"
      },
      "outputs": [
        {
          "output_type": "stream",
          "name": "stdout",
          "text": [
            "[[1 2]\n",
            " [3 4]\n",
            " [5 6]]\n",
            "\n",
            "(3, 2)\n"
          ]
        }
      ],
      "source": [
        "x = np.array([[1,2],[3,4], [5, 6]])\n",
        "print(x)\n",
        "print()\n",
        "print(x.shape)"
      ]
    },
    {
      "cell_type": "code",
      "execution_count": 16,
      "id": "df82f62e",
      "metadata": {
        "id": "df82f62e",
        "outputId": "6395bd33-a861-4bef-d204-a67f5aef9ba3",
        "colab": {
          "base_uri": "https://localhost:8080/"
        }
      },
      "outputs": [
        {
          "output_type": "stream",
          "name": "stdout",
          "text": [
            "[2 4 6]\n"
          ]
        }
      ],
      "source": [
        "print(np.max(x, axis = 1))"
      ]
    },
    {
      "cell_type": "code",
      "source": [
        "print(np.max(x, axis = 1).shape)"
      ],
      "metadata": {
        "id": "WDWPbijv7xsw",
        "colab": {
          "base_uri": "https://localhost:8080/"
        },
        "outputId": "36eacfaa-32e8-4de6-983d-cfebbd363368"
      },
      "id": "WDWPbijv7xsw",
      "execution_count": 17,
      "outputs": [
        {
          "output_type": "stream",
          "name": "stdout",
          "text": [
            "(3,)\n"
          ]
        }
      ]
    },
    {
      "cell_type": "code",
      "execution_count": 18,
      "id": "0e888b74",
      "metadata": {
        "id": "0e888b74",
        "outputId": "d7a0c01d-0975-4e94-dbea-983b438fdc7f",
        "colab": {
          "base_uri": "https://localhost:8080/"
        }
      },
      "outputs": [
        {
          "output_type": "stream",
          "name": "stdout",
          "text": [
            "[[2]\n",
            " [4]\n",
            " [6]]\n"
          ]
        }
      ],
      "source": [
        "print(np.max(x, axis = 1, keepdims = True))"
      ]
    },
    {
      "cell_type": "code",
      "source": [
        "print(np.max(x, axis = 1, keepdims = True).shape)"
      ],
      "metadata": {
        "id": "bs1NM9oR703c",
        "colab": {
          "base_uri": "https://localhost:8080/"
        },
        "outputId": "1cb0abf6-acd0-4b8b-9694-716bf524e1c0"
      },
      "id": "bs1NM9oR703c",
      "execution_count": 19,
      "outputs": [
        {
          "output_type": "stream",
          "name": "stdout",
          "text": [
            "(3, 1)\n"
          ]
        }
      ]
    },
    {
      "cell_type": "markdown",
      "id": "29ff27ec",
      "metadata": {
        "id": "29ff27ec"
      },
      "source": [
        "Next, let's look at some matrix operations. Let's take an element-wise product (Hadamard product)."
      ]
    },
    {
      "cell_type": "code",
      "execution_count": 20,
      "id": "25aeb52d",
      "metadata": {
        "id": "25aeb52d",
        "outputId": "807928c7-1152-4898-9ba7-2aba31d7f2b8",
        "colab": {
          "base_uri": "https://localhost:8080/"
        }
      },
      "outputs": [
        {
          "output_type": "stream",
          "name": "stdout",
          "text": [
            "[[1 2]\n",
            " [3 4]]\n",
            "[[3 3]\n",
            " [3 3]]\n",
            "---\n",
            "[[ 3  6]\n",
            " [ 9 12]]\n"
          ]
        }
      ],
      "source": [
        "A = np.array([[1, 2], [3, 4]])\n",
        "B = np.array([[3, 3], [3, 3]])\n",
        "print(A)\n",
        "print(B)\n",
        "print(\"---\")\n",
        "print(A * B)"
      ]
    },
    {
      "cell_type": "markdown",
      "id": "689f2a8d",
      "metadata": {
        "id": "689f2a8d"
      },
      "source": [
        "We can do matrix multiplication with np.matmul or @."
      ]
    },
    {
      "cell_type": "code",
      "execution_count": 21,
      "id": "c76ec303",
      "metadata": {
        "id": "c76ec303",
        "outputId": "42d3d67c-7d0e-4dc0-f224-461fdfa55f45",
        "colab": {
          "base_uri": "https://localhost:8080/"
        }
      },
      "outputs": [
        {
          "output_type": "stream",
          "name": "stdout",
          "text": [
            "[[ 9  9]\n",
            " [21 21]]\n",
            "[[ 9  9]\n",
            " [21 21]]\n"
          ]
        }
      ],
      "source": [
        "# One way to do matrix multiplication\n",
        "print(np.matmul(A, B))\n",
        "\n",
        "# Another way to do matrix multiplication\n",
        "print(A @ B)"
      ]
    },
    {
      "cell_type": "markdown",
      "id": "62696957",
      "metadata": {
        "id": "62696957"
      },
      "source": [
        "We can take the dot product or a matrix vector product with np.dot."
      ]
    },
    {
      "cell_type": "code",
      "execution_count": 22,
      "id": "0caf84b9",
      "metadata": {
        "id": "0caf84b9",
        "outputId": "4f26791c-042d-45b0-aa88-62523c4d4fa6",
        "colab": {
          "base_uri": "https://localhost:8080/"
        }
      },
      "outputs": [
        {
          "output_type": "stream",
          "name": "stdout",
          "text": [
            "321\n",
            "321\n"
          ]
        }
      ],
      "source": [
        "u = np.array([1, 2, 3])\n",
        "v = np.array([1, 10, 100])\n",
        "\n",
        "print(np.dot(u, v))\n",
        "\n",
        "# Can also call numpy operations on the numpy array, useful for chaining together multiple operations\n",
        "print(u.dot(v))"
      ]
    },
    {
      "cell_type": "code",
      "execution_count": 23,
      "id": "43e635bb",
      "metadata": {
        "id": "43e635bb",
        "outputId": "7f8cf05e-5a89-4288-d853-49b6a76754b3",
        "colab": {
          "base_uri": "https://localhost:8080/"
        }
      },
      "outputs": [
        {
          "output_type": "stream",
          "name": "stdout",
          "text": [
            "(3,)\n",
            "(3, 2)\n",
            "[531 642]\n",
            "(2,)\n"
          ]
        }
      ],
      "source": [
        "W = np.array([[1, 2], [3, 4], [5, 6]])\n",
        "print(v.shape)\n",
        "print(W.shape)\n",
        "\n",
        "# This works.\n",
        "print(np.dot(v, W))\n",
        "print(np.dot(v, W).shape)"
      ]
    },
    {
      "cell_type": "code",
      "execution_count": 29,
      "id": "683dd6ee",
      "metadata": {
        "id": "683dd6ee",
        "outputId": "91b38793-b423-4636-fa36-a09672c1cffc",
        "colab": {
          "base_uri": "https://localhost:8080/",
          "height": 162
        }
      },
      "outputs": [
        {
          "output_type": "error",
          "ename": "ValueError",
          "evalue": "shapes (3,2) and (3,) not aligned: 2 (dim 1) != 3 (dim 0)",
          "traceback": [
            "\u001b[0;31m---------------------------------------------------------------------------\u001b[0m",
            "\u001b[0;31mValueError\u001b[0m                                Traceback (most recent call last)",
            "\u001b[0;32m<ipython-input-29-c21878d615cb>\u001b[0m in \u001b[0;36m<cell line: 2>\u001b[0;34m()\u001b[0m\n\u001b[1;32m      1\u001b[0m \u001b[0;31m# This does not. Why?\u001b[0m\u001b[0;34m\u001b[0m\u001b[0;34m\u001b[0m\u001b[0m\n\u001b[0;32m----> 2\u001b[0;31m \u001b[0mprint\u001b[0m\u001b[0;34m(\u001b[0m\u001b[0mnp\u001b[0m\u001b[0;34m.\u001b[0m\u001b[0mdot\u001b[0m\u001b[0;34m(\u001b[0m\u001b[0mW\u001b[0m\u001b[0;34m,\u001b[0m \u001b[0mv\u001b[0m\u001b[0;34m)\u001b[0m\u001b[0;34m)\u001b[0m\u001b[0;34m\u001b[0m\u001b[0;34m\u001b[0m\u001b[0m\n\u001b[0m",
            "\u001b[0;31mValueError\u001b[0m: shapes (3,2) and (3,) not aligned: 2 (dim 1) != 3 (dim 0)"
          ]
        }
      ],
      "source": [
        "# This does not. Why?\n",
        "print(np.dot(W, v))"
      ]
    },
    {
      "cell_type": "code",
      "execution_count": 25,
      "id": "9e8b2184",
      "metadata": {
        "id": "9e8b2184",
        "outputId": "b16f6b51-3b33-4c54-b866-70d441f64e0c",
        "colab": {
          "base_uri": "https://localhost:8080/"
        }
      },
      "outputs": [
        {
          "output_type": "stream",
          "name": "stdout",
          "text": [
            "[531 642]\n",
            "(2,)\n"
          ]
        }
      ],
      "source": [
        "# We can fix the above issue by transposing W.\n",
        "print(np.dot(W.T, v))\n",
        "print(np.dot(W.T, v).shape)"
      ]
    },
    {
      "cell_type": "markdown",
      "id": "c13199d8",
      "metadata": {
        "id": "c13199d8"
      },
      "source": [
        "###  Indexing"
      ]
    },
    {
      "cell_type": "markdown",
      "id": "d3d3d5c2",
      "metadata": {
        "id": "d3d3d5c2"
      },
      "source": [
        "Slicing / indexing numpy arrays is a extension of the Python concept of slicing (lists) to N dimensions."
      ]
    },
    {
      "cell_type": "code",
      "execution_count": 30,
      "id": "bb930e29",
      "metadata": {
        "scrolled": true,
        "id": "bb930e29",
        "outputId": "fcd72280-7152-4d61-cfc3-4452e2ab4975",
        "colab": {
          "base_uri": "https://localhost:8080/"
        }
      },
      "outputs": [
        {
          "output_type": "stream",
          "name": "stdout",
          "text": [
            "[[0.40793665 0.15869056 0.25862755 0.47000383]\n",
            " [0.36274352 0.48805577 0.07062243 0.64690231]\n",
            " [0.27194385 0.82960105 0.23849557 0.58957475]]\n"
          ]
        }
      ],
      "source": [
        "x = np.random.random((3, 4))\n",
        "\n",
        "# Selects all of x\n",
        "print(x[:])"
      ]
    },
    {
      "cell_type": "code",
      "execution_count": 31,
      "id": "16d0fe9a",
      "metadata": {
        "id": "16d0fe9a",
        "outputId": "e4d3f075-6aaa-4837-95ab-3253f16266a8",
        "colab": {
          "base_uri": "https://localhost:8080/"
        }
      },
      "outputs": [
        {
          "output_type": "stream",
          "name": "stdout",
          "text": [
            "[[0.40793665 0.15869056 0.25862755 0.47000383]\n",
            " [0.27194385 0.82960105 0.23849557 0.58957475]]\n",
            "---\n",
            "[0.48805577 0.07062243]\n"
          ]
        }
      ],
      "source": [
        "# Selects the 0th and 2nd rows\n",
        "print(x[np.array([0, 2]), :])\n",
        "\n",
        "print(\"---\")\n",
        "\n",
        "# Selects 1st row as 1-D vector and and 1st through 2nd elements\n",
        "print(x[1, 1:3])"
      ]
    },
    {
      "cell_type": "code",
      "execution_count": 35,
      "id": "04bf1911",
      "metadata": {
        "id": "04bf1911",
        "outputId": "dc4333ea-9994-49fd-e669-66df9c258c04",
        "colab": {
          "base_uri": "https://localhost:8080/"
        }
      },
      "outputs": [
        {
          "output_type": "stream",
          "name": "stdout",
          "text": [
            "[0.64690231 0.82960105 0.58957475]\n",
            "(3,)\n"
          ]
        }
      ],
      "source": [
        "# Boolean indexing\n",
        "print(x[x > 0.5])\n",
        "print(x[x > 0.5].shape)"
      ]
    },
    {
      "cell_type": "code",
      "execution_count": 36,
      "id": "118924a3",
      "metadata": {
        "id": "118924a3",
        "outputId": "667b1281-66ca-48e8-d184-07de0c4cf6c0",
        "colab": {
          "base_uri": "https://localhost:8080/"
        }
      },
      "outputs": [
        {
          "output_type": "stream",
          "name": "stdout",
          "text": [
            "[[[0.40793665]\n",
            "  [0.15869056]\n",
            "  [0.25862755]\n",
            "  [0.47000383]]\n",
            "\n",
            " [[0.36274352]\n",
            "  [0.48805577]\n",
            "  [0.07062243]\n",
            "  [0.64690231]]\n",
            "\n",
            " [[0.27194385]\n",
            "  [0.82960105]\n",
            "  [0.23849557]\n",
            "  [0.58957475]]]\n"
          ]
        }
      ],
      "source": [
        "# 3-D vector of shape (3, 4, 1)\n",
        "print(x[:, :, np.newaxis])"
      ]
    },
    {
      "cell_type": "markdown",
      "id": "48e1704f",
      "metadata": {
        "id": "48e1704f"
      },
      "source": [
        "### Broadcasting"
      ]
    },
    {
      "cell_type": "markdown",
      "id": "40d35521",
      "metadata": {
        "id": "40d35521"
      },
      "source": [
        "The term broadcasting describes how NumPy treats arrays with different shapes during arithmetic operations.\n",
        "\n",
        "**General Broadcasting Rules**\n",
        "\n",
        "When operating on two arrays, NumPy compares their shapes element-wise. It starts with the trailing (i.e. rightmost) dimensions and works its way left. Two dimensions are compatible when:\n",
        "- they are equal, or\n",
        "- one of them is 1 (in which case, elements on the axis are repeated along the dimension)\n",
        "\n",
        "More details: https://numpy.org/doc/stable/user/basics.broadcasting.html"
      ]
    },
    {
      "cell_type": "code",
      "execution_count": 37,
      "id": "e3f0c8b1",
      "metadata": {
        "id": "e3f0c8b1"
      },
      "outputs": [],
      "source": [
        "x = np.random.random((3, 4))\n",
        "\n",
        "y = np.random.random((3, 1))\n",
        "z = np.random.random((1, 4))\n",
        "\n",
        "# In this example, y and z are broadcasted to match the shape of x.\n",
        "# y is broadcasted along dim 1.\n",
        "s = x + y\n",
        "# z is broadcasted along dim 0.\n",
        "p = x * z"
      ]
    },
    {
      "cell_type": "code",
      "execution_count": 38,
      "id": "93cdfc8a",
      "metadata": {
        "id": "93cdfc8a",
        "outputId": "a3879d5b-75b9-4205-b9f4-3a4e860742f4",
        "colab": {
          "base_uri": "https://localhost:8080/"
        }
      },
      "outputs": [
        {
          "output_type": "stream",
          "name": "stdout",
          "text": [
            "(3, 4)\n",
            "\n",
            "(3, 1)\n",
            "(3, 4)\n"
          ]
        }
      ],
      "source": [
        "print(x.shape)\n",
        "print()\n",
        "print(y.shape)\n",
        "print(s.shape)"
      ]
    },
    {
      "cell_type": "code",
      "execution_count": 39,
      "id": "a77b76bc",
      "metadata": {
        "id": "a77b76bc",
        "outputId": "8cfb3acb-0bcb-4681-e952-46d97eebab74",
        "colab": {
          "base_uri": "https://localhost:8080/"
        }
      },
      "outputs": [
        {
          "output_type": "stream",
          "name": "stdout",
          "text": [
            "(3, 4)\n",
            "\n",
            "(3, 4)\n",
            "(3, 4)\n"
          ]
        }
      ],
      "source": [
        "print(x.shape)\n",
        "print()\n",
        "print(s.shape)\n",
        "print(p.shape)"
      ]
    },
    {
      "cell_type": "code",
      "source": [
        "a = np.zeros((3, 3))\n",
        "b = np.array([[1, 2, 3]])\n",
        "print(a)\n",
        "print()\n",
        "print(a+b)"
      ],
      "metadata": {
        "colab": {
          "base_uri": "https://localhost:8080/"
        },
        "id": "FICMa8RiMR08",
        "outputId": "65c08ae8-b475-4a52-c9a6-2b315a17bf22"
      },
      "id": "FICMa8RiMR08",
      "execution_count": 40,
      "outputs": [
        {
          "output_type": "stream",
          "name": "stdout",
          "text": [
            "[[0. 0. 0.]\n",
            " [0. 0. 0.]\n",
            " [0. 0. 0.]]\n",
            "\n",
            "[[1. 2. 3.]\n",
            " [1. 2. 3.]\n",
            " [1. 2. 3.]]\n"
          ]
        }
      ]
    },
    {
      "cell_type": "markdown",
      "id": "fec8ae1e",
      "metadata": {
        "id": "fec8ae1e"
      },
      "source": [
        "Let's look at a more complex example."
      ]
    },
    {
      "cell_type": "code",
      "execution_count": 42,
      "id": "2b1b271d",
      "metadata": {
        "id": "2b1b271d"
      },
      "outputs": [],
      "source": [
        "a = np.random.random((3, 4))\n",
        "b = np.random.random((3, 1))\n",
        "c = np.random.random((3, ))"
      ]
    },
    {
      "cell_type": "markdown",
      "id": "972fda59",
      "metadata": {
        "id": "972fda59"
      },
      "source": [
        "What is the expected broadcasting behavior for these operations? What do the following operations give us? What are the resulting shapes?"
      ]
    },
    {
      "cell_type": "code",
      "execution_count": 43,
      "id": "ab0e1d5b",
      "metadata": {
        "id": "ab0e1d5b",
        "outputId": "bb27de5a-1477-405b-f056-d055a7388d62",
        "colab": {
          "base_uri": "https://localhost:8080/"
        }
      },
      "outputs": [
        {
          "output_type": "stream",
          "name": "stdout",
          "text": [
            "(3, 1)\n",
            "(1, 3)\n",
            "(3, 3)\n",
            "[[1.78409393 1.23839231 0.91998007]\n",
            " [1.23839231 0.69269069 0.37427845]\n",
            " [0.91998007 0.37427845 0.0558662 ]]\n"
          ]
        }
      ],
      "source": [
        "result1 = b + b.T\n",
        "\n",
        "print(b.shape)\n",
        "print(b.T.shape)\n",
        "print(result1.shape)\n",
        "print(result1)"
      ]
    },
    {
      "cell_type": "code",
      "execution_count": 44,
      "id": "d7e113be",
      "metadata": {
        "scrolled": true,
        "id": "d7e113be",
        "outputId": "e90eedd4-2cd1-498f-cfe2-841e9e1435e9",
        "colab": {
          "base_uri": "https://localhost:8080/",
          "height": 216
        }
      },
      "outputs": [
        {
          "output_type": "error",
          "ename": "ValueError",
          "evalue": "operands could not be broadcast together with shapes (3,4) (3,) ",
          "traceback": [
            "\u001b[0;31m---------------------------------------------------------------------------\u001b[0m",
            "\u001b[0;31mValueError\u001b[0m                                Traceback (most recent call last)",
            "\u001b[0;32m<ipython-input-44-490e280e0ca0>\u001b[0m in \u001b[0;36m<cell line: 1>\u001b[0;34m()\u001b[0m\n\u001b[0;32m----> 1\u001b[0;31m \u001b[0mresult2\u001b[0m \u001b[0;34m=\u001b[0m \u001b[0ma\u001b[0m \u001b[0;34m+\u001b[0m \u001b[0mc\u001b[0m\u001b[0;34m\u001b[0m\u001b[0;34m\u001b[0m\u001b[0m\n\u001b[0m\u001b[1;32m      2\u001b[0m \u001b[0;34m\u001b[0m\u001b[0m\n\u001b[1;32m      3\u001b[0m \u001b[0mprint\u001b[0m\u001b[0;34m(\u001b[0m\u001b[0ma\u001b[0m\u001b[0;34m.\u001b[0m\u001b[0mshape\u001b[0m\u001b[0;34m)\u001b[0m\u001b[0;34m\u001b[0m\u001b[0;34m\u001b[0m\u001b[0m\n\u001b[1;32m      4\u001b[0m \u001b[0mprint\u001b[0m\u001b[0;34m(\u001b[0m\u001b[0mc\u001b[0m\u001b[0;34m.\u001b[0m\u001b[0mshape\u001b[0m\u001b[0;34m)\u001b[0m\u001b[0;34m\u001b[0m\u001b[0;34m\u001b[0m\u001b[0m\n\u001b[1;32m      5\u001b[0m \u001b[0mprint\u001b[0m\u001b[0;34m(\u001b[0m\u001b[0mresult2\u001b[0m\u001b[0;34m.\u001b[0m\u001b[0mshape\u001b[0m\u001b[0;34m)\u001b[0m\u001b[0;34m\u001b[0m\u001b[0;34m\u001b[0m\u001b[0m\n",
            "\u001b[0;31mValueError\u001b[0m: operands could not be broadcast together with shapes (3,4) (3,) "
          ]
        }
      ],
      "source": [
        "result2 = a + c\n",
        "\n",
        "print(a.shape)\n",
        "print(c.shape)\n",
        "print(result2.shape)\n",
        "print(result2)"
      ]
    },
    {
      "cell_type": "code",
      "execution_count": 45,
      "id": "e91c0c70",
      "metadata": {
        "id": "e91c0c70",
        "outputId": "019fc7ba-8ec5-4171-da35-730f243adce7",
        "colab": {
          "base_uri": "https://localhost:8080/"
        }
      },
      "outputs": [
        {
          "output_type": "stream",
          "name": "stdout",
          "text": [
            "(3, 1)\n",
            "(3,)\n",
            "(3, 3)\n",
            "[[1.14109446 1.68907935 1.50581255]\n",
            " [0.59539284 1.14337773 0.96011093]\n",
            " [0.27698059 0.82496548 0.64169868]]\n"
          ]
        }
      ],
      "source": [
        "result3 = b + c\n",
        "\n",
        "print(b.shape)\n",
        "print(c.shape)\n",
        "print(result3.shape)\n",
        "print(result3)"
      ]
    },
    {
      "cell_type": "markdown",
      "id": "0a845479",
      "metadata": {
        "id": "0a845479"
      },
      "source": [
        "### Efficient NumPy Code"
      ]
    },
    {
      "cell_type": "markdown",
      "id": "55c8d74f",
      "metadata": {
        "id": "55c8d74f"
      },
      "source": [
        "When working with numpy arrays, avoid explicit for-loops over indices/axes at all costs. For-loops will dramatically slow down your code (~10-100x)."
      ]
    },
    {
      "cell_type": "markdown",
      "id": "e1285d83",
      "metadata": {
        "id": "e1285d83"
      },
      "source": [
        "We can time code using the %%timeit magic. Let's compare using explicit for-loop vs. using numpy operations."
      ]
    },
    {
      "cell_type": "code",
      "execution_count": 47,
      "id": "ba02c912",
      "metadata": {
        "id": "ba02c912",
        "outputId": "32694b82-ad9e-4ac2-e9df-08622f03a642",
        "colab": {
          "base_uri": "https://localhost:8080/"
        }
      },
      "outputs": [
        {
          "output_type": "stream",
          "name": "stdout",
          "text": [
            "321 ms ± 7.52 ms per loop (mean ± std. dev. of 7 runs, 1 loop each)\n"
          ]
        }
      ],
      "source": [
        "%%timeit\n",
        "x = np.random.rand(1000, 1000)\n",
        "for i in range(100, 1000):\n",
        "    for j in range(x.shape[1]):\n",
        "        x[i, j] += 5"
      ]
    },
    {
      "cell_type": "code",
      "execution_count": 48,
      "id": "3c96fc83",
      "metadata": {
        "id": "3c96fc83",
        "outputId": "50f816f6-aeca-40ba-9a42-89f387668099",
        "colab": {
          "base_uri": "https://localhost:8080/"
        }
      },
      "outputs": [
        {
          "output_type": "stream",
          "name": "stdout",
          "text": [
            "12.5 ms ± 3.79 ms per loop (mean ± std. dev. of 7 runs, 100 loops each)\n"
          ]
        }
      ],
      "source": [
        "%%timeit\n",
        "x = np.random.rand(1000, 1000)\n",
        "x[np.arange(100,1000), :] += 5"
      ]
    },
    {
      "cell_type": "code",
      "execution_count": null,
      "id": "72b832dd",
      "metadata": {
        "id": "72b832dd"
      },
      "outputs": [],
      "source": []
    }
  ],
  "metadata": {
    "kernelspec": {
      "display_name": "Python 3 (ipykernel)",
      "language": "python",
      "name": "python3"
    },
    "language_info": {
      "codemirror_mode": {
        "name": "ipython",
        "version": 3
      },
      "file_extension": ".py",
      "mimetype": "text/x-python",
      "name": "python",
      "nbconvert_exporter": "python",
      "pygments_lexer": "ipython3",
      "version": "3.9.7"
    },
    "colab": {
      "provenance": [],
      "include_colab_link": true
    }
  },
  "nbformat": 4,
  "nbformat_minor": 5
}