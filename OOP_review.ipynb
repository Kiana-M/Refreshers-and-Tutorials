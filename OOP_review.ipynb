{
  "nbformat": 4,
  "nbformat_minor": 0,
  "metadata": {
    "colab": {
      "provenance": [],
      "authorship_tag": "ABX9TyNPH/yTKROGOS1Oy04FlPtN",
      "include_colab_link": true
    },
    "kernelspec": {
      "name": "python3",
      "display_name": "Python 3"
    },
    "language_info": {
      "name": "python"
    }
  },
  "cells": [
    {
      "cell_type": "markdown",
      "metadata": {
        "id": "view-in-github",
        "colab_type": "text"
      },
      "source": [
        "<a href=\"https://colab.research.google.com/github/Kiana-M/Refreshers-and-Tutorials/blob/main/OOP_review.ipynb\" target=\"_parent\"><img src=\"https://colab.research.google.com/assets/colab-badge.svg\" alt=\"Open In Colab\"/></a>"
      ]
    },
    {
      "cell_type": "markdown",
      "source": [
        "# Basics of Object Oriented Programming\n",
        "\n",
        "### **Classes and Objects**\n",
        "\n",
        "**Class**: A blueprint for creating objects (instances). It defines the attributes (data) and methods (functions) that the objects will have.\n",
        "\n",
        "**Object**: An instance of a class. When you create an object, you are making an instance of the class.\n",
        "\n",
        "### **Attributes and Methods:**\n",
        "\n",
        "**Attributes**: Variables that belong to an object or class (also known as properties).\n",
        "\n",
        "**Methods**: Functions defined inside a class that describe the behaviors of an object.\n",
        "\n",
        "\n",
        "### **Encapsulation:**\n",
        "\n",
        "The practice of keeping an object's internal state private and only exposing it through methods. This protects the integrity of the data.\n",
        "\n",
        "### **Inheritance:**\n",
        "\n",
        "A way to create a new class using an existing class. The new class (child) inherits the attributes and methods of the existing class (parent), but can also have additional features.\n",
        "\n",
        "### **Polymorphism:**\n",
        "\n",
        "Allows objects of different types to be treated as if they are objects of a common parent class. Different classes can define the same method and behave differently when that method is called.\n",
        "\n",
        "### **Abstraction**:\n",
        "\n",
        "Hides complex implementation details and shows only the necessary features of an object."
      ],
      "metadata": {
        "id": "0ox8F__L3CPw"
      }
    },
    {
      "cell_type": "markdown",
      "source": [
        "# Toy Project: A Simple Library System\n",
        "\n",
        "We'll create a small library system that includes Book, Library, and Member classes to demonstrate these concepts."
      ],
      "metadata": {
        "id": "hwkbzIBqXobx"
      }
    },
    {
      "cell_type": "code",
      "execution_count": 1,
      "metadata": {
        "colab": {
          "base_uri": "https://localhost:8080/"
        },
        "id": "V1-QTvxv2-Uf",
        "outputId": "64ad950d-42bf-4a17-cb5a-498f9e8c3d72"
      },
      "outputs": [
        {
          "output_type": "stream",
          "name": "stdout",
          "text": [
            "Available books: 1984, To Kill a Mockingbird, The Great Gatsby\n",
            "Alice borrowed 1984.\n",
            "Available books: To Kill a Mockingbird, The Great Gatsby\n",
            "Alice returned 1984.\n",
            "Available books: 1984, To Kill a Mockingbird, The Great Gatsby\n"
          ]
        }
      ],
      "source": [
        "# 1. Defining a Book class\n",
        "class Book:\n",
        "    def __init__(self, title, author):\n",
        "        self.title = title\n",
        "        self.author = author\n",
        "        self.is_checked_out = False\n",
        "\n",
        "    def check_out(self):\n",
        "        if not self.is_checked_out:\n",
        "            self.is_checked_out = True\n",
        "            return f\"{self.title} has been checked out.\"\n",
        "        return f\"{self.title} is already checked out.\"\n",
        "\n",
        "    def return_book(self):\n",
        "        if self.is_checked_out:\n",
        "            self.is_checked_out = False\n",
        "            return f\"{self.title} has been returned.\"\n",
        "        return f\"{self.title} was not checked out.\"\n",
        "\n",
        "# 2. Defining a Member class\n",
        "class Member:\n",
        "    def __init__(self, name):\n",
        "        self.name = name\n",
        "        self.borrowed_books = []\n",
        "\n",
        "    def borrow_book(self, book):\n",
        "        if not book.is_checked_out:\n",
        "            book.check_out()\n",
        "            self.borrowed_books.append(book)\n",
        "            return f\"{self.name} borrowed {book.title}.\"\n",
        "        return f\"{book.title} is already borrowed by someone else.\"\n",
        "\n",
        "    def return_book(self, book):\n",
        "        if book in self.borrowed_books:\n",
        "            book.return_book()\n",
        "            self.borrowed_books.remove(book)\n",
        "            return f\"{self.name} returned {book.title}.\"\n",
        "        return f\"{self.name} doesn't have {book.title}.\"\n",
        "\n",
        "# 3. Defining a Library class\n",
        "class Library:\n",
        "    def __init__(self, name):\n",
        "        self.name = name\n",
        "        self.books = []\n",
        "\n",
        "    def add_book(self, book):\n",
        "        self.books.append(book)\n",
        "        return f\"{book.title} has been added to the library.\"\n",
        "\n",
        "    def show_available_books(self):\n",
        "        available_books = [book.title for book in self.books if not book.is_checked_out]\n",
        "        return f\"Available books: {', '.join(available_books)}\" if available_books else \"No books available.\"\n",
        "\n",
        "# Example usage\n",
        "if __name__ == \"__main__\":\n",
        "    # Create some book objects\n",
        "    book1 = Book(\"1984\", \"George Orwell\")\n",
        "    book2 = Book(\"To Kill a Mockingbird\", \"Harper Lee\")\n",
        "    book3 = Book(\"The Great Gatsby\", \"F. Scott Fitzgerald\")\n",
        "\n",
        "    # Create a library\n",
        "    library = Library(\"City Library\")\n",
        "    library.add_book(book1)\n",
        "    library.add_book(book2)\n",
        "    library.add_book(book3)\n",
        "\n",
        "    # Create a member\n",
        "    member = Member(\"Alice\")\n",
        "\n",
        "    # Member borrows and returns books\n",
        "    print(library.show_available_books())\n",
        "    print(member.borrow_book(book1))\n",
        "    print(library.show_available_books())\n",
        "    print(member.return_book(book1))\n",
        "    print(library.show_available_books())\n"
      ]
    },
    {
      "cell_type": "markdown",
      "source": [
        "# Some Q&A with ChatGPT, Republic style:\n",
        "\n",
        "https://chatgpt.com/share/671bbf09-6394-8013-9e92-18e888884296\n",
        "\n",
        "**Q**:"
      ],
      "metadata": {
        "id": "UFkfETLSYOrW"
      }
    }
  ]
}